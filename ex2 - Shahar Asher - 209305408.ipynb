{
 "cells": [
  {
   "cell_type": "markdown",
   "metadata": {},
   "source": [
    "# <span style=\"color:red\">**exercise 2**</span>\n",
    "![Python logo](./python_logo.gif)\n",
    "---"
   ]
  },
  {
   "cell_type": "code",
   "execution_count": 511,
   "metadata": {},
   "outputs": [],
   "source": [
    "# imports\n",
    "import struct\n",
    "import matplotlib.pyplot as plt\n",
    "import struct\n",
    "import numpy as np"
   ]
  },
  {
   "cell_type": "markdown",
   "metadata": {},
   "source": [
    "## Q.1: Extracting values from a binary file\n",
    "- The function __dump_array_file__ reads the binary file and\n",
    "extracts the values using __struct.unpack__ .\n",
    "It prints the extracted values in a readable format."
   ]
  },
  {
   "cell_type": "code",
   "execution_count": 512,
   "metadata": {},
   "outputs": [],
   "source": [
    "def dump_array_file(file_name:str)->None:\n",
    "    \"\"\"\n",
    "    Reads a binary file containing an array of structures and extracts the values.\n",
    "\n",
    "    Args:\n",
    "        file_name (str): The path to the binary file.\n",
    "\n",
    "    Returns:\n",
    "        None\n",
    "\n",
    "    Example:\n",
    "        >>> dump_array_file(\"./f32_f32_i16.bin\")\n",
    "        file content:\n",
    "        (1.0, 2.0, 3)\n",
    "        (4.0, 5.0, 6)\n",
    "    \"\"\"\n",
    "    with open(file_name, \"rb\") as file:\n",
    "        bdata:bytes = file.read()\n",
    "        \n",
    "        re_1:tuple[float, float, int] = struct.unpack(\"ffh\", bdata[:10])\n",
    "        re_2:tuple[float, float, int] = struct.unpack(\"ffh\", bdata[10:])\n",
    "\n",
    "        print(f'file content:')\n",
    "        print(re_1)\n",
    "        print(re_2)"
   ]
  },
  {
   "cell_type": "code",
   "execution_count": 513,
   "metadata": {},
   "outputs": [
    {
     "name": "stdout",
     "output_type": "stream",
     "text": [
      "file content:\n",
      "(-0.5, 3.0, 5)\n",
      "(5.0, 4.25, 45)\n"
     ]
    }
   ],
   "source": [
    "dump_array_file(\"./f32_f32_i16.bin\")"
   ]
  },
  {
   "cell_type": "markdown",
   "metadata": {},
   "source": [
    "## Q.2: Displaying the image\n",
    "- The function __show_img__ reads the binary file containing the image data.\n",
    "- It unpacks the binary data into a list of floating-point numbers.\n",
    "- Then, it converts the list into a NumPy array and reshapes it to the original image shape.\n",
    "- Finally, it displays the image using Matplotlib."
   ]
  },
  {
   "cell_type": "code",
   "execution_count": 514,
   "metadata": {},
   "outputs": [],
   "source": [
    "def show_img(file_name:str)->None:\n",
    "    \"\"\"\n",
    "    Reads a binary file containing image data and displays the image.\n",
    "\n",
    "    Args:\n",
    "        file_name (str): The path to the binary file.\n",
    "\n",
    "    Returns:\n",
    "        None\n",
    "\n",
    "    Example:\n",
    "        >>> show_img(\"./image.bin\")\n",
    "        [Image displayed]\n",
    "    \"\"\"\n",
    "    # Open the binary file\n",
    "    with open(file_name, \"rb\") as file:\n",
    "        bdata:bytes = file.read()\n",
    "        \n",
    "        # Unpack the binary data into a list of integers\n",
    "        img:list = []\n",
    "        for i in range(0, len(bdata)//6):\n",
    "            img += struct.unpack(\">eee\", bdata[i*6:(i*6)+6])\n",
    "\n",
    "        # Convert the list to a numpy array and reshape it to the original image shape\n",
    "        # Here, I'm assuming the image is square for simplicity.\n",
    "        img_np:np.ndarray = np.array(img).reshape((int(len(img)**0.5), -1))\n",
    "\n",
    "        # Display the image\n",
    "        plt.imshow(img_np)\n",
    "        plt.show()"
   ]
  },
  {
   "cell_type": "code",
   "execution_count": 515,
   "metadata": {},
   "outputs": [
    {
     "data": {
      "image/png": "[encoded data removed]",
      "text/plain": [
       "<Figure size 640x480 with 1 Axes>"
      ]
     },
     "metadata": {},
     "output_type": "display_data"
    }
   ],
   "source": [
    "show_img(\"./image.bin\")"
   ]
  }
 ],
 "metadata": {
  "kernelspec": {
   "display_name": "base",
   "language": "python",
   "name": "python3"
  },
  "language_info": {
   "codemirror_mode": {
    "name": "ipython",
    "version": 3
   },
   "file_extension": ".py",
   "mimetype": "text/x-python",
   "name": "python",
   "nbconvert_exporter": "python",
   "pygments_lexer": "ipython3",
   "version": "3.11.5"
  }
 },
 "nbformat": 4,
 "nbformat_minor": 2
}
