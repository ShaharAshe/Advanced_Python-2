{
 "cells": [
  {
   "cell_type": "markdown",
   "metadata": {},
   "source": [
    "# <span style=\"color:red\">**exercise 2**</span>\n",
    "![Python logo](./python_logo.gif)\n",
    "---"
   ]
  },
  {
   "cell_type": "markdown",
   "metadata": {},
   "source": [
    "### submited by:\n",
    "- Name: Shahar Asher\n",
    "- Id: 209305408\n",
    "- Email adress: shaharas@edu.hac.ac.il\n",
    "- Date: 12/04/2024\n",
    "\n",
    "### Operation system: Windows 11\n",
    "### Python version: 3.11.5 (Using anaconda)\n",
    "### IDE: Visual Studio Code\n",
    "### External libraries: numpy, matplotlib\n",
    "---"
   ]
  },
  {
   "cell_type": "code",
   "execution_count": 86,
   "metadata": {},
   "outputs": [],
   "source": [
    "# imports\n",
    "import struct\n",
    "import matplotlib.pyplot as plt\n",
    "import numpy as np"
   ]
  },
  {
   "cell_type": "markdown",
   "metadata": {},
   "source": [
    "## Q.1: Extracting values from a binary file\n",
    "- The function __dump_array_file__ reads the binary file and\n",
    "extracts the values using __struct.unpack__ .\n",
    "It prints the extracted values in a readable format."
   ]
  },
  {
   "cell_type": "code",
   "execution_count": 87,
   "metadata": {},
   "outputs": [],
   "source": [
    "def dump_array_file(file_name:str)->tuple[tuple[float, float, int], tuple[float, float, int]]:\n",
    "    \"\"\"\n",
    "    Reads a binary file containing an array of structures and extracts the values.\n",
    "\n",
    "    Args:\n",
    "        file_name (str): The path to the binary file.\n",
    "\n",
    "    Returns:\n",
    "        tuple: A tuple containing two tuples. Each inner tuple contains three values extracted from the binary file:\n",
    "               - First value: float\n",
    "               - Second value: float\n",
    "               - Third value: int\n",
    "\n",
    "    Example:\n",
    "        >>> dump_array_file(\"./f32_f32_i16.bin\")\n",
    "        ((1.0, 2.0, 3), (4.0, 5.0, 6))\n",
    "    \"\"\"\n",
    "    re_1:tuple[float, float, int] = ()\n",
    "    re_2:tuple[float, float, int] = ()\n",
    "    with open(file_name, \"rb\") as file:\n",
    "        bdata:bytes = file.read()\n",
    "        \n",
    "        re_1:tuple[float, float, int] = struct.unpack(\"ffh\", bdata[:10])\n",
    "        re_2:tuple[float, float, int] = struct.unpack(\"ffh\", bdata[10:])\n",
    "        \n",
    "    return (re_1, re_2)"
   ]
  },
  {
   "cell_type": "code",
   "execution_count": 88,
   "metadata": {},
   "outputs": [
    {
     "name": "stdout",
     "output_type": "stream",
     "text": [
      "file content:\n",
      "(-0.5, 3.0, 5)\n",
      "(5.0, 4.25, 45)\n"
     ]
    }
   ],
   "source": [
    "cont:tuple[tuple[float, float, int], tuple[float, float, int]] = dump_array_file(\"./f32_f32_i16.bin\")\n",
    "print(f'file content:\\n{cont[0]}\\n{cont[1]}')"
   ]
  },
  {
   "cell_type": "markdown",
   "metadata": {},
   "source": [
    "## Q.2: Displaying the image\n",
    "- The function __show_img__ reads the binary file containing the image data.\n",
    "- It unpacks the binary data into a list of floating-point numbers.\n",
    "- Then, it converts the list into a NumPy array and reshapes it to the original image shape.\n",
    "- Finally, it displays the image using Matplotlib."
   ]
  },
  {
   "cell_type": "code",
   "execution_count": 89,
   "metadata": {},
   "outputs": [],
   "source": [
    "def show_img(file_name:str)->None:\n",
    "    \"\"\"\n",
    "    Reads a binary file containing image data and displays the image.\n",
    "\n",
    "    Args:\n",
    "        file_name (str): The path to the binary file.\n",
    "\n",
    "    Returns:\n",
    "        None\n",
    "\n",
    "    Example:\n",
    "        >>> show_img(\"./image.bin\")\n",
    "        [Image displayed]\n",
    "    \"\"\"\n",
    "    # Open the binary file\n",
    "    with open(file_name, \"rb\") as file:\n",
    "        # read the first line of the file - for knowing the row & col\n",
    "        bdata:bytes = file.readline()\n",
    "        row:int = struct.unpack(\"b\", bdata[1:2])[0]\n",
    "        col:int = struct.unpack(\"b\", bdata[3:4])[0]\n",
    "\n",
    "        # Read the rest of the file containing image data\n",
    "        bdata:bytes = file.read()\n",
    "\n",
    "        # Convert binary data into a list of lists representing the image\n",
    "        data:list = []\n",
    "        for i in range(0, row):\n",
    "            dataTemp:list = []\n",
    "            for j in range(0, col):\n",
    "                dataTemp.append(bdata[i*10+j])\n",
    "            data.append(dataTemp)\n",
    "\n",
    "        # Convert the list to a numpy array\n",
    "        img_np:np.ndarray = np.array(data)\n",
    "\n",
    "        # Display the image\n",
    "        plt.imshow(img_np, cmap=\"gray\")\n",
    "        plt.show()"
   ]
  },
  {
   "cell_type": "code",
   "execution_count": 90,
   "metadata": {},
   "outputs": [
    {
     "data": {
      "image/png": "[encoded data removed]",
      "text/plain": [
       "<Figure size 640x480 with 1 Axes>"
      ]
     },
     "metadata": {},
     "output_type": "display_data"
    }
   ],
   "source": [
    "show_img(\"./image.bin\")"
   ]
  }
 ],
 "metadata": {
  "kernelspec": {
   "display_name": "base",
   "language": "python",
   "name": "python3"
  },
  "language_info": {
   "codemirror_mode": {
    "name": "ipython",
    "version": 3
   },
   "file_extension": ".py",
   "mimetype": "text/x-python",
   "name": "python",
   "nbconvert_exporter": "python",
   "pygments_lexer": "ipython3",
   "version": "3.11.5"
  }
 },
 "nbformat": 4,
 "nbformat_minor": 2
}
